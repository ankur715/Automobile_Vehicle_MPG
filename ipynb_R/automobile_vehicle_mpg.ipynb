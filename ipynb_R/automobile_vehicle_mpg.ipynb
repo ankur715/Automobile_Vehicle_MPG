{
 "cells": [
  {
   "cell_type": "code",
   "execution_count": 5,
   "metadata": {},
   "outputs": [],
   "source": [
    "### READ, VIEW, STRUCTURE, SUMMARY:\n",
    "\n",
    "auto_mpg <- read.csv(file.choose())\n",
    "# uses R-console to choose file\n",
    "# can also use read.csv(\"/Users/...path.../auto-mpg.csv\")"
   ]
  },
  {
   "cell_type": "code",
   "execution_count": 6,
   "metadata": {},
   "outputs": [
    {
     "name": "stdout",
     "output_type": "stream",
     "text": [
      "'data.frame':\t398 obs. of  9 variables:\n",
      " $ mpg         : num  18 15 18 16 17 15 14 14 14 15 ...\n",
      " $ cylinder    : int  8 8 8 8 8 8 8 8 8 8 ...\n",
      " $ displacement: num  307 350 318 304 302 429 454 440 455 390 ...\n",
      " $ horsepower  : Factor w/ 94 levels \"?\",\"100\",\"102\",..: 17 35 29 29 24 42 47 46 48 40 ...\n",
      " $ weight      : int  3504 3693 3436 3433 3449 4341 4354 4312 4425 3850 ...\n",
      " $ acceleration: num  12 11.5 11 12 10.5 10 9 8.5 10 8.5 ...\n",
      " $ model.year  : int  70 70 70 70 70 70 70 70 70 70 ...\n",
      " $ origin      : int  1 1 1 1 1 1 1 1 1 1 ...\n",
      " $ car.name    : Factor w/ 305 levels \"amc ambassador brougham\",..: 50 37 232 15 162 142 55 224 242 2 ...\n"
     ]
    },
    {
     "data": {
      "text/plain": [
       "      mpg           cylinder      displacement     horsepower      weight    \n",
       " Min.   : 9.00   Min.   :3.000   Min.   : 68.0   150    : 22   Min.   :1613  \n",
       " 1st Qu.:17.50   1st Qu.:4.000   1st Qu.:104.2   90     : 20   1st Qu.:2224  \n",
       " Median :23.00   Median :4.000   Median :148.5   88     : 19   Median :2804  \n",
       " Mean   :23.51   Mean   :5.455   Mean   :193.4   110    : 18   Mean   :2970  \n",
       " 3rd Qu.:29.00   3rd Qu.:8.000   3rd Qu.:262.0   100    : 17   3rd Qu.:3608  \n",
       " Max.   :46.60   Max.   :8.000   Max.   :455.0   75     : 14   Max.   :5140  \n",
       "                                                 (Other):288                 \n",
       "  acceleration     model.year        origin                car.name  \n",
       " Min.   : 8.00   Min.   :70.00   Min.   :1.000   ford pinto    :  6  \n",
       " 1st Qu.:13.82   1st Qu.:73.00   1st Qu.:1.000   amc matador   :  5  \n",
       " Median :15.50   Median :76.00   Median :1.000   ford maverick :  5  \n",
       " Mean   :15.57   Mean   :76.01   Mean   :1.573   toyota corolla:  5  \n",
       " 3rd Qu.:17.18   3rd Qu.:79.00   3rd Qu.:2.000   amc gremlin   :  4  \n",
       " Max.   :24.80   Max.   :82.00   Max.   :3.000   amc hornet    :  4  \n",
       "                                                 (Other)       :369  "
      ]
     },
     "metadata": {},
     "output_type": "display_data"
    }
   ],
   "source": [
    "str(auto_mpg)\n",
    "summary(auto_mpg)"
   ]
  },
  {
   "cell_type": "code",
   "execution_count": 7,
   "metadata": {},
   "outputs": [],
   "source": [
    "# data set has 9 variables (mpg is 1; other 8 variables will be analyzed to study its feature)\n",
    "# mpg statistics: IQR = 29.00 - 17.50 = 11.5; data set 1.5*IQR boundaries"
   ]
  },
  {
   "cell_type": "code",
   "execution_count": 38,
   "metadata": {},
   "outputs": [
    {
     "data": {
      "text/plain": [
       "\n",
       "Call:\n",
       "lm(formula = mpg ~ ., data = auto_mpg_clean)\n",
       "\n",
       "Residuals:\n",
       "   Min     1Q Median     3Q    Max \n",
       "-9.656 -2.069 -0.043  1.775 13.098 \n",
       "\n",
       "Coefficients:\n",
       "               Estimate Std. Error t value Pr(>|t|)    \n",
       "(Intercept)  -2.134e+01  4.292e+00  -4.971 1.00e-06 ***\n",
       "cylinder     -2.739e-01  3.398e-01  -0.806   0.4208    \n",
       "displacement  1.539e-02  7.275e-03   2.116   0.0350 *  \n",
       "horsepower    1.072e-02  7.076e-03   1.515   0.1306    \n",
       "weight       -6.756e-03  5.828e-04 -11.592  < 2e-16 ***\n",
       "acceleration  1.489e-01  7.777e-02   1.914   0.0563 .  \n",
       "model.year    7.688e-01  4.972e-02  15.463  < 2e-16 ***\n",
       "origin        1.344e+00  2.701e-01   4.975 9.89e-07 ***\n",
       "---\n",
       "Signif. codes:  0 '***' 0.001 '**' 0.01 '*' 0.05 '.' 0.1 ' ' 1\n",
       "\n",
       "Residual standard error: 3.324 on 384 degrees of freedom\n",
       "Multiple R-squared:  0.8218,\tAdjusted R-squared:  0.8186 \n",
       "F-statistic: 253.1 on 7 and 384 DF,  p-value: < 2.2e-16\n"
      ]
     },
     "metadata": {},
     "output_type": "display_data"
    },
    {
     "name": "stdout",
     "output_type": "stream",
     "text": [
      "'data.frame':\t392 obs. of  8 variables:\n",
      " $ mpg         : num  18 15 18 16 17 15 14 14 14 15 ...\n",
      " $ cylinder    : int  8 8 8 8 8 8 8 8 8 8 ...\n",
      " $ displacement: num  307 350 318 304 302 429 454 440 455 390 ...\n",
      " $ horsepower  : num  17 35 29 29 24 42 47 46 48 40 ...\n",
      " $ weight      : int  3504 3693 3436 3433 3449 4341 4354 4312 4425 3850 ...\n",
      " $ acceleration: num  12 11.5 11 12 10.5 10 9 8.5 10 8.5 ...\n",
      " $ model.year  : int  70 70 70 70 70 70 70 70 70 70 ...\n",
      " $ origin      : int  1 1 1 1 1 1 1 1 1 1 ...\n"
     ]
    }
   ],
   "source": [
    "### CLEAN DATA:\n",
    "\n",
    "# non-numeric variables changed to numbers\n",
    "# horsepower contains ?\n",
    "\n",
    "auto_mpg1 <- auto_mpg[-c(33,127,331,337,355,375),]\n",
    "auto_mpg_clean <- auto_mpg1[,-c(9)]\n",
    "auto_mpg_clean$horsepower <- as.numeric(auto_mpg_clean$horsepower)\n",
    "model <- lm(mpg~., data = auto_mpg)\n",
    "# summary(model)\n",
    "# model shows unclean data\n",
    "model1 <- lm(mpg~., data = auto_mpg_clean)\n",
    "summary(model1)\n",
    "str(auto_mpg_clean)"
   ]
  },
  {
   "cell_type": "code",
   "execution_count": 9,
   "metadata": {},
   "outputs": [],
   "source": [
    "### TRAIN DATASET & TEST DATASET:\n",
    "\n",
    "# train 300 obs., test 301 to 392 obs.\n",
    "# 393-398: ? values\n",
    "train <- auto_mpg_clean[1:300,]\n",
    "test <- auto_mpg_clean[301:392,]"
   ]
  },
  {
   "cell_type": "code",
   "execution_count": 10,
   "metadata": {},
   "outputs": [
    {
     "data": {
      "text/plain": [
       "\n",
       "Call:\n",
       "lm(formula = train$mpg ~ train$cylinder, data = train)\n",
       "\n",
       "Residuals:\n",
       "     Min       1Q   Median       3Q      Max \n",
       "-11.1071  -2.3012  -0.4306   1.8282  16.9282 \n",
       "\n",
       "Coefficients:\n",
       "               Estimate Std. Error t value Pr(>|t|)    \n",
       "(Intercept)     37.9130     0.7356   51.54   <2e-16 ***\n",
       "train$cylinder  -2.9353     0.1211  -24.24   <2e-16 ***\n",
       "---\n",
       "Signif. codes:  0 '***' 0.001 '**' 0.01 '*' 0.05 '.' 0.1 ' ' 1\n",
       "\n",
       "Residual standard error: 3.678 on 298 degrees of freedom\n",
       "Multiple R-squared:  0.6636,\tAdjusted R-squared:  0.6624 \n",
       "F-statistic: 587.8 on 1 and 298 DF,  p-value: < 2.2e-16\n"
      ]
     },
     "metadata": {},
     "output_type": "display_data"
    },
    {
     "data": {
      "image/png": "[encoded data removed]",
      "text/plain": [
       "Plot with title \"MPG vs. Cylinder\""
      ]
     },
     "metadata": {},
     "output_type": "display_data"
    }
   ],
   "source": [
    "### MULTIPLE R-SQUARED:\n",
    "\n",
    "# MPG vs. Cylinder\n",
    "traincylinder <- lm(train$mpg ~ train$cylinder, data = train)\n",
    "summary(traincylinder)\n",
    "plot(train$cylinder, train$mpg, main = \"MPG vs. Cylinder\", xlab = \"cylinder\", ylab = \"mpg\")"
   ]
  },
  {
   "cell_type": "code",
   "execution_count": 11,
   "metadata": {},
   "outputs": [
    {
     "data": {
      "text/plain": [
       "\n",
       "Call:\n",
       "lm(formula = train$displacement ~ train$mpg, data = train)\n",
       "\n",
       "Residuals:\n",
       "     Min       1Q   Median       3Q      Max \n",
       "-186.167  -35.216   -2.498   33.558  198.391 \n",
       "\n",
       "Coefficients:\n",
       "            Estimate Std. Error t value Pr(>|t|)    \n",
       "(Intercept) 517.6038    11.6978   44.25   <2e-16 ***\n",
       "train$mpg   -14.5242     0.5372  -27.04   <2e-16 ***\n",
       "---\n",
       "Signif. codes:  0 '***' 0.001 '**' 0.01 '*' 0.05 '.' 0.1 ' ' 1\n",
       "\n",
       "Residual standard error: 58.8 on 298 degrees of freedom\n",
       "Multiple R-squared:  0.7104,\tAdjusted R-squared:  0.7094 \n",
       "F-statistic: 731.1 on 1 and 298 DF,  p-value: < 2.2e-16\n"
      ]
     },
     "metadata": {},
     "output_type": "display_data"
    },
    {
     "data": {
      "image/png": "[encoded data removed]",
      "text/plain": [
       "Plot with title \"MPG vs. Displacement\""
      ]
     },
     "metadata": {},
     "output_type": "display_data"
    }
   ],
   "source": [
    "# MPG vs. Displacement \n",
    "traindisplacement <- lm(train$displacement ~ train$mpg, data = train)\n",
    "summary(traindisplacement)\n",
    "plot(train$displacement, train$mpg, main = \"MPG vs. Displacement\", xlab = \"displacement\", ylab = \"mpg\")"
   ]
  },
  {
   "cell_type": "code",
   "execution_count": 12,
   "metadata": {},
   "outputs": [
    {
     "data": {
      "text/plain": [
       "\n",
       "Call:\n",
       "lm(formula = train$horsepower ~ train$mpg, data = train)\n",
       "\n",
       "Residuals:\n",
       "    Min      1Q  Median      3Q     Max \n",
       "-50.697 -18.444  -0.606  20.316  50.798 \n",
       "\n",
       "Coefficients:\n",
       "            Estimate Std. Error t value Pr(>|t|)    \n",
       "(Intercept)   0.5888     5.2436   0.112    0.911    \n",
       "train$mpg     2.3119     0.2408   9.601   <2e-16 ***\n",
       "---\n",
       "Signif. codes:  0 '***' 0.001 '**' 0.01 '*' 0.05 '.' 0.1 ' ' 1\n",
       "\n",
       "Residual standard error: 26.36 on 298 degrees of freedom\n",
       "Multiple R-squared:  0.2363,\tAdjusted R-squared:  0.2337 \n",
       "F-statistic: 92.18 on 1 and 298 DF,  p-value: < 2.2e-16\n"
      ]
     },
     "metadata": {},
     "output_type": "display_data"
    },
    {
     "data": {
      "image/png": "[encoded data removed]",
      "text/plain": [
       "Plot with title \"MPG vs. Displacement\""
      ]
     },
     "metadata": {},
     "output_type": "display_data"
    }
   ],
   "source": [
    "# MPG vs. Horsepower\n",
    "trainhorsepower <- lm(train$horsepower ~ train$mpg, data = train)\n",
    "summary(trainhorsepower)\n",
    "plot(train$horsepower, train$mpg, main = \"MPG vs. Displacement\", xlab = \"displacement\", ylab = \"mpg\")"
   ]
  },
  {
   "cell_type": "code",
   "execution_count": 13,
   "metadata": {},
   "outputs": [
    {
     "data": {
      "text/plain": [
       "\n",
       "Call:\n",
       "lm(formula = train$weight ~ train$mpg, data = train)\n",
       "\n",
       "Residuals:\n",
       "     Min       1Q   Median       3Q      Max \n",
       "-1359.51  -273.50    -0.02   264.01  1579.43 \n",
       "\n",
       "Coefficients:\n",
       "            Estimate Std. Error t value Pr(>|t|)    \n",
       "(Intercept) 5690.791     84.216   67.57   <2e-16 ***\n",
       "train$mpg   -122.627      3.867  -31.71   <2e-16 ***\n",
       "---\n",
       "Signif. codes:  0 '***' 0.001 '**' 0.01 '*' 0.05 '.' 0.1 ' ' 1\n",
       "\n",
       "Residual standard error: 423.3 on 298 degrees of freedom\n",
       "Multiple R-squared:  0.7714,\tAdjusted R-squared:  0.7706 \n",
       "F-statistic:  1005 on 1 and 298 DF,  p-value: < 2.2e-16\n"
      ]
     },
     "metadata": {},
     "output_type": "display_data"
    },
    {
     "data": {
      "image/png": "[encoded data removed]",
      "text/plain": [
       "Plot with title \"MPG vs. Weight\""
      ]
     },
     "metadata": {},
     "output_type": "display_data"
    }
   ],
   "source": [
    "# MPG vs. Weight\n",
    "trainweight <- lm(train$weight ~ train$mpg, data = train)\n",
    "summary(trainweight)\n",
    "plot(train$weight, train$mpg, main = \"MPG vs. Weight\", xlab = \"weight\", ylab = \"mpg\")"
   ]
  },
  {
   "cell_type": "code",
   "execution_count": 14,
   "metadata": {},
   "outputs": [
    {
     "data": {
      "text/plain": [
       "\n",
       "Call:\n",
       "lm(formula = train$acceleration ~ train$mpg, data = train)\n",
       "\n",
       "Residuals:\n",
       "    Min      1Q  Median      3Q     Max \n",
       "-5.9084 -1.7107 -0.2921  1.4030  8.2824 \n",
       "\n",
       "Coefficients:\n",
       "            Estimate Std. Error t value Pr(>|t|)    \n",
       "(Intercept) 11.14106    0.49082   22.70   <2e-16 ***\n",
       "train$mpg    0.19767    0.02254    8.77   <2e-16 ***\n",
       "---\n",
       "Signif. codes:  0 '***' 0.001 '**' 0.01 '*' 0.05 '.' 0.1 ' ' 1\n",
       "\n",
       "Residual standard error: 2.467 on 298 degrees of freedom\n",
       "Multiple R-squared:  0.2052,\tAdjusted R-squared:  0.2025 \n",
       "F-statistic: 76.91 on 1 and 298 DF,  p-value: < 2.2e-16\n"
      ]
     },
     "metadata": {},
     "output_type": "display_data"
    },
    {
     "data": {
      "image/png": "[encoded data removed]",
      "text/plain": [
       "Plot with title \"MPG vs. Acceleration\""
      ]
     },
     "metadata": {},
     "output_type": "display_data"
    }
   ],
   "source": [
    "# MPG vs. Acceleration\n",
    "trainacceleration <- lm(train$acceleration ~ train$mpg, data = train)\n",
    "summary(trainacceleration)\n",
    "plot(train$acceleration, train$mpg, main = \"MPG vs. Acceleration\", xlab = \"acceleration\", ylab = \"mpg\")"
   ]
  },
  {
   "cell_type": "code",
   "execution_count": 15,
   "metadata": {},
   "outputs": [
    {
     "data": {
      "text/plain": [
       "\n",
       "Call:\n",
       "lm(formula = train$model.year ~ train$mpg, data = train)\n",
       "\n",
       "Residuals:\n",
       "    Min      1Q  Median      3Q     Max \n",
       "-5.3228 -1.9428  0.1113  2.1002  5.2194 \n",
       "\n",
       "Coefficients:\n",
       "            Estimate Std. Error t value Pr(>|t|)    \n",
       "(Intercept) 71.75982    0.53199 134.890  < 2e-16 ***\n",
       "train$mpg    0.13037    0.02443   5.337 1.88e-07 ***\n",
       "---\n",
       "Signif. codes:  0 '***' 0.001 '**' 0.01 '*' 0.05 '.' 0.1 ' ' 1\n",
       "\n",
       "Residual standard error: 2.674 on 298 degrees of freedom\n",
       "Multiple R-squared:  0.08723,\tAdjusted R-squared:  0.08417 \n",
       "F-statistic: 28.48 on 1 and 298 DF,  p-value: 1.878e-07\n"
      ]
     },
     "metadata": {},
     "output_type": "display_data"
    },
    {
     "data": {
      "image/png": "[encoded data removed]",
      "text/plain": [
       "Plot with title \"MPG vs. Model Year\""
      ]
     },
     "metadata": {},
     "output_type": "display_data"
    }
   ],
   "source": [
    "# MPG vs. Model Car\n",
    "trainmodel.year <- lm(train$model.year ~ train$mpg, data = train)\n",
    "summary(trainmodel.year)\n",
    "plot(train$model.year, train$mpg, main = \"MPG vs. Model Year\", xlab = \"model.year\", ylab = \"mpg\")"
   ]
  },
  {
   "cell_type": "code",
   "execution_count": 16,
   "metadata": {},
   "outputs": [
    {
     "data": {
      "text/plain": [
       "\n",
       "Call:\n",
       "lm(formula = train$origin ~ train$mpg, data = train)\n",
       "\n",
       "Residuals:\n",
       "     Min       1Q   Median       3Q      Max \n",
       "-1.52042 -0.34713 -0.07268  0.20178  1.72148 \n",
       "\n",
       "Coefficients:\n",
       "            Estimate Std. Error t value Pr(>|t|)    \n",
       "(Intercept) 0.043476   0.118852   0.366    0.715    \n",
       "train$mpg   0.068613   0.005458  12.572   <2e-16 ***\n",
       "---\n",
       "Signif. codes:  0 '***' 0.001 '**' 0.01 '*' 0.05 '.' 0.1 ' ' 1\n",
       "\n",
       "Residual standard error: 0.5975 on 298 degrees of freedom\n",
       "Multiple R-squared:  0.3466,\tAdjusted R-squared:  0.3444 \n",
       "F-statistic:   158 on 1 and 298 DF,  p-value: < 2.2e-16\n"
      ]
     },
     "metadata": {},
     "output_type": "display_data"
    },
    {
     "data": {
      "image/png": "[encoded data removed]",
      "text/plain": [
       "Plot with title \"MPG vs. Origin\""
      ]
     },
     "metadata": {},
     "output_type": "display_data"
    }
   ],
   "source": [
    "# MPG vs. Origin\n",
    "trainorigin <- lm(train$origin ~ train$mpg, data = train)\n",
    "summary(trainorigin)\n",
    "plot(train$origin, train$mpg, main = \"MPG vs. Origin\", xlab = \"origin\", ylab = \"mpg\")"
   ]
  },
  {
   "cell_type": "code",
   "execution_count": 17,
   "metadata": {},
   "outputs": [
    {
     "data": {
      "text/plain": [
       "\n",
       "Call:\n",
       "lm(formula = mpg ~ cylinder + displacement + weight, data = train)\n",
       "\n",
       "Residuals:\n",
       "   Min     1Q Median     3Q    Max \n",
       "-9.559 -1.892 -0.151  1.712 15.113 \n",
       "\n",
       "Coefficients:\n",
       "               Estimate Std. Error t value Pr(>|t|)    \n",
       "(Intercept)  39.0682163  1.1448111  34.126   <2e-16 ***\n",
       "cylinder     -0.0579278  0.3260901  -0.178   0.8591    \n",
       "displacement -0.0103839  0.0062078  -1.673   0.0954 .  \n",
       "weight       -0.0049947  0.0005411  -9.231   <2e-16 ***\n",
       "---\n",
       "Signif. codes:  0 '***' 0.001 '**' 0.01 '*' 0.05 '.' 0.1 ' ' 1\n",
       "\n",
       "Residual standard error: 3.009 on 296 degrees of freedom\n",
       "Multiple R-squared:  0.7764,\tAdjusted R-squared:  0.7741 \n",
       "F-statistic: 342.6 on 3 and 296 DF,  p-value: < 2.2e-16\n"
      ]
     },
     "metadata": {},
     "output_type": "display_data"
    }
   ],
   "source": [
    "### ADJUSTED R-SQUARED:\n",
    "\n",
    "attach(train)\n",
    "adjustedmodel <- lm(mpg ~ cylinder + displacement + weight, data = train)\n",
    "summary(adjustedmodel)"
   ]
  },
  {
   "cell_type": "code",
   "execution_count": 18,
   "metadata": {},
   "outputs": [
    {
     "name": "stderr",
     "output_type": "stream",
     "text": [
      "The following objects are masked from train (pos = 3):\n",
      "\n",
      "    acceleration, cylinder, displacement, horsepower, model.year, mpg,\n",
      "    origin, weight\n",
      "\n"
     ]
    },
    {
     "data": {
      "text/plain": [
       "\n",
       "Call:\n",
       "lm(formula = mpg ~ displacement + weight, data = train)\n",
       "\n",
       "Residuals:\n",
       "    Min      1Q  Median      3Q     Max \n",
       "-9.5232 -1.8741 -0.1765  1.6766 15.1041 \n",
       "\n",
       "Coefficients:\n",
       "               Estimate Std. Error t value Pr(>|t|)    \n",
       "(Intercept)  38.9422109  0.8971239  43.408   <2e-16 ***\n",
       "displacement -0.0111720  0.0043353  -2.577   0.0104 *  \n",
       "weight       -0.0050080  0.0005351  -9.360   <2e-16 ***\n",
       "---\n",
       "Signif. codes:  0 '***' 0.001 '**' 0.01 '*' 0.05 '.' 0.1 ' ' 1\n",
       "\n",
       "Residual standard error: 3.004 on 297 degrees of freedom\n",
       "Multiple R-squared:  0.7764,\tAdjusted R-squared:  0.7749 \n",
       "F-statistic: 515.6 on 2 and 297 DF,  p-value: < 2.2e-16\n"
      ]
     },
     "metadata": {},
     "output_type": "display_data"
    }
   ],
   "source": [
    "# cylinder had no significance\n",
    "attach(train)\n",
    "adjustedmodel2 <- lm(mpg ~ displacement + weight, data = train)\n",
    "summary(adjustedmodel2)"
   ]
  },
  {
   "cell_type": "code",
   "execution_count": null,
   "metadata": {},
   "outputs": [],
   "source": [
    "# message because both the packages have functions with same name\n",
    "# can either ‘detach()’ or not ‘attach()’ again"
   ]
  },
  {
   "cell_type": "code",
   "execution_count": 19,
   "metadata": {},
   "outputs": [
    {
     "name": "stderr",
     "output_type": "stream",
     "text": [
      "The following objects are masked from train (pos = 3):\n",
      "\n",
      "    acceleration, cylinder, displacement, horsepower, model.year, mpg,\n",
      "    origin, weight\n",
      "\n",
      "The following objects are masked from train (pos = 4):\n",
      "\n",
      "    acceleration, cylinder, displacement, horsepower, model.year, mpg,\n",
      "    origin, weight\n",
      "\n"
     ]
    }
   ],
   "source": [
    "### COMPLETE LINEAR REGRESSION EQUATION:\n",
    "\n",
    "attach(train)\n",
    "adjustedmodel2 <- lm(mpg ~ displacement + weight, data = train)\n",
    "# attached for better example"
   ]
  },
  {
   "cell_type": "code",
   "execution_count": 20,
   "metadata": {},
   "outputs": [
    {
     "data": {
      "text/plain": [
       "   Min. 1st Qu.  Median    Mean 3rd Qu.    Max. \n",
       " -70.22 1240.22 1728.55 1741.45 2263.24 3514.96 "
      ]
     },
     "metadata": {},
     "output_type": "display_data"
    }
   ],
   "source": [
    "### PREDICT & COMPARE:\n",
    "\n",
    "# predict and compare using best linear model\n",
    "pred <- coef(trainweight)[1] + coef(trainweight)[2]*test$mpg\n",
    "test_mpg <- test[,1]\n",
    "error <-  pred - test_mpg\n",
    "summary(error)"
   ]
  },
  {
   "cell_type": "code",
   "execution_count": 23,
   "metadata": {},
   "outputs": [
    {
     "data": {
      "text/plain": [
       "   Min. 1st Qu.  Median    Mean 3rd Qu.    Max. \n",
       " -2.341   3.519   6.431   6.764   9.304  19.185 "
      ]
     },
     "metadata": {},
     "output_type": "display_data"
    },
    {
     "data": {
      "text/plain": [
       "    Min.  1st Qu.   Median     Mean  3rd Qu.     Max. \n",
       "-9.10483 -3.24530 -0.33306 -0.00035  2.54028 12.42144 "
      ]
     },
     "metadata": {},
     "output_type": "display_data"
    }
   ],
   "source": [
    "# error range too high using only weight\n",
    "# predict with displacement and weight\n",
    "pred1 <- coef(adjustedmodel2)[1] + coef(adjustedmodel2)[2]*test$displacement + coef(adjustedmodel2)[3]*test$weight\n",
    "test_mpg1 <- test[,1]\n",
    "error1 <- test_mpg1 - pred1\n",
    "summary(error1)\n",
    "error1 <- error1 - 6.764\n",
    "summary(error1)"
   ]
  },
  {
   "cell_type": "code",
   "execution_count": 24,
   "metadata": {},
   "outputs": [
    {
     "data": {
      "image/png": "[encoded data removed]",
      "text/plain": [
       "Plot with title \"Prediction Errors\""
      ]
     },
     "metadata": {},
     "output_type": "display_data"
    }
   ],
   "source": [
    "### RESIDUAL PLOT: \n",
    "\n",
    "plot(error1, main = 'Prediction Errors', xlab = 'Error1', ylab = 'Residual')\n",
    "abline(0,0)"
   ]
  },
  {
   "cell_type": "code",
   "execution_count": 25,
   "metadata": {},
   "outputs": [
    {
     "data": {
      "image/png": "[encoded data removed]",
      "text/plain": [
       "Plot with title \"Error1- pred vs. test\""
      ]
     },
     "metadata": {},
     "output_type": "display_data"
    }
   ],
   "source": [
    "### HISTOGRAM:\n",
    "\n",
    "hist(error1, prob = T, breaks = 20, main = 'Error1- pred vs. test', xlab = 'Residual', ylab = 'Density')\n",
    "lines(density(error1), col='red')\n",
    "mean_e <- mean(error1)\n",
    "var_e <- var(error1)\n",
    "sd_e <- sqrt(var_e)\n",
    "x_e <- seq(-20,20, length=92)\n",
    "y_e <- dnorm(x_e, mean_e, sd_e)\n",
    "lines(x_e, y_e, col = 'blue')"
   ]
  },
  {
   "cell_type": "code",
   "execution_count": null,
   "metadata": {},
   "outputs": [],
   "source": [
    "### BONUS:\n",
    "\n",
    "# trouble working on IRkernel\n",
    "source(\"https://install-github.me/dreamRs/esquisse\")\n",
    "esquisse::esquisser()\n",
    "ggplot(data = test) +\n",
    "  aes() +\n",
    "  geom_blank() +\n",
    "  geom_smooth(span = 1) +\n",
    "  labs(title = \"MPG vs Weight, Displacement\",\n",
    "    x = \"weight\",\n",
    "    y = \"mpg\",\n",
    "    caption = \"ggplot2 builder\",\n",
    "    subtitle = \"Adjusted R-squared: 0.77\") +\n",
    "  theme_classic()\n",
    "\n",
    "# allows to choose dataframe, variables, graph type\n",
    "# the plot is in plots folder"
   ]
  },
  {
   "cell_type": "code",
   "execution_count": null,
   "metadata": {},
   "outputs": [],
   "source": [
    "### CONCLUSION:\n",
    "\n",
    "# highest R-squared was ~0.78 with displacement and weight variables for mpg"
   ]
  }
 ],
 "metadata": {
  "kernelspec": {
   "display_name": "R",
   "language": "R",
   "name": "ir"
  },
  "language_info": {
   "codemirror_mode": "r",
   "file_extension": ".r",
   "mimetype": "text/x-r-source",
   "name": "R",
   "pygments_lexer": "r",
   "version": "3.5.1"
  }
 },
 "nbformat": 4,
 "nbformat_minor": 2
}
